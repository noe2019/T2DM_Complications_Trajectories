{
 "cells": [
  {
   "cell_type": "code",
   "execution_count": null,
   "id": "94ebced5",
   "metadata": {},
   "outputs": [],
   "source": [
    "import pandas as pd\n",
    "df = pd.read_csv('../Complications_T2DM/clean_data/final_wide_df1.csv')"
   ]
  },
  {
   "cell_type": "code",
   "execution_count": null,
   "id": "466aff63",
   "metadata": {},
   "outputs": [],
   "source": [
    "t1 = []\n",
    "for i in range(50):\n",
    "    t1.append('Code Dx Principal_v'+str(i))\n",
    "    t1.append('Ecle Me Cim  Diagnostic (Autres)_v'+str(i))\n",
    "    #t1.append('Age  Du Pt\\n(au séjour)_v'+str(i))\n",
    "t1 = t1 + ['PatienId']"
   ]
  },
  {
   "cell_type": "code",
   "execution_count": null,
   "id": "6f889cff",
   "metadata": {},
   "outputs": [],
   "source": [
    "import numpy as np\n",
    "df11['PatienId'] = df1['PatienId']\n",
    "df11['Sexe'] = df1['Sexe']\n",
    "#df12['PatienId'] = df1['PatienId']\n",
    "#df13 = pd.merge(df11,df12,on='PatienId',how='inner')\n",
    "df13.head()"
   ]
  },
  {
   "cell_type": "code",
   "execution_count": null,
   "id": "0e355f05",
   "metadata": {},
   "outputs": [],
   "source": [
    "ds10 = df13[(df13['Code Dx Principal_v4']==\"E11.2\")&(df13['Sexe']=='F')&(df13['Age  Du Pt\\n(au séjour)_v4']<=50)]\n",
    "ds11 = df13[(df13['Code Dx Principal_v4']==\"E11.2\")&(df13['Sexe']=='F')&(df13['Age  Du Pt\\n(au séjour)_v4']>50)]\n",
    "ds12 = df13[(df13['Code Dx Principal_v4']==\"E11.3\")&(df13['Sexe']=='F')&(df13['Age  Du Pt\\n(au séjour)_v4']<=50)]\n",
    "ds13 = df13[(df13['Code Dx Principal_v4']==\"E11.3\")&(df13['Sexe']=='F')&(df13['Age  Du Pt\\n(au séjour)_v4']>50)]\n",
    "ds14 = df13[(df13['Code Dx Principal_v4']==\"E11.4\")&(df13['Sexe']=='F')&(df13['Age  Du Pt\\n(au séjour)_v4']<=50)]\n",
    "ds15 = df13[(df13['Code Dx Principal_v4']==\"E11.4\")&(df13['Sexe']=='F')&(df13['Age  Du Pt\\n(au séjour)_v4']>50)]\n",
    "ds16 = df13[(df13['Code Dx Principal_v4']==\"E11.5\")&(df13['Sexe']=='F')&(df13['Age  Du Pt\\n(au séjour)_v4']<=50)]\n",
    "ds17 = df13[(df13['Code Dx Principal_v4']==\"E11.5\")&(df13['Sexe']=='F')&(df13['Age  Du Pt\\n(au séjour)_v4']>50)]\n",
    "ds18 = df13[(df13['Code Dx Principal_v4']==\"L97\")&(df13['Sexe']=='F')&(df13['Age  Du Pt\\n(au séjour)_v4']<=50)]\n",
    "ds19 = df13[(df13['Code Dx Principal_v4']==\"L97\")&(df13['Sexe']=='F')&(df13['Age  Du Pt\\n(au séjour)_v4']>50)]\n",
    "\n",
    "\n",
    "print(len(ds10),len(ds11),len(ds12),len(ds13),len(ds14),len(ds15),len(ds16),len(ds17),len(ds18),len(ds19))"
   ]
  },
  {
   "cell_type": "code",
   "execution_count": null,
   "id": "6b16671c",
   "metadata": {},
   "outputs": [],
   "source": [
    "ds10 = df11[(df11['Ecle Me Cim  Diagnostic (Autres)_v0']==\"E11.2\")&(df11['Sexe']=='M')&(df11['Age  Du Pt\\n(au séjour)_v0']<=50)]\n",
    "ds11 = df11[(df11['Ecle Me Cim  Diagnostic (Autres)_v0']==\"E11.2\")&(df11['Sexe']=='M')&(df11['Age  Du Pt\\n(au séjour)_v0']>50)]\n",
    "ds12 = df11[(df11['Ecle Me Cim  Diagnostic (Autres)_v0']==\"E11.3\")&(df11['Sexe']=='M')&(df11['Age  Du Pt\\n(au séjour)_v0']<=50)]\n",
    "ds13 = df11[(df11['Ecle Me Cim  Diagnostic (Autres)_v0']==\"E11.3\")&(df11['Sexe']=='M')&(df11['Age  Du Pt\\n(au séjour)_v0']>50)]\n",
    "ds14 = df11[(df11['Ecle Me Cim  Diagnostic (Autres)_v0']==\"E11.4\")&(df11['Sexe']=='M')&(df11['Age  Du Pt\\n(au séjour)_v0']<=50)]\n",
    "ds15 = df11[(df11['Ecle Me Cim  Diagnostic (Autres)_v0']==\"E11.4\")&(df11['Sexe']=='M')&(df11['Age  Du Pt\\n(au séjour)_v0']>50)]\n",
    "ds16 = df11[(df11['Ecle Me Cim  Diagnostic (Autres)_v0']==\"E11.5\")&(df11['Sexe']=='M')&(df11['Age  Du Pt\\n(au séjour)_v0']<=50)]\n",
    "ds17 = df11[(df11['Ecle Me Cim  Diagnostic (Autres)_v0']==\"E11.5\")&(df11['Sexe']=='M')&(df11['Age  Du Pt\\n(au séjour)_v0']>50)]\n",
    "ds18 = df11[(df11['Ecle Me Cim  Diagnostic (Autres)_v0']==\"L97\")&(df11['Sexe']=='M')&(df11['Age  Du Pt\\n(au séjour)_v0']<=50)]\n",
    "ds19 = df11[(df11['Ecle Me Cim  Diagnostic (Autres)_v0']==\"L97\")&(df11['Sexe']=='M')&(df11['Age  Du Pt\\n(au séjour)_v0']>50)]\n",
    "\n",
    "print(len(ds10),len(ds11),len(ds12),len(ds13),len(ds14),len(ds15),len(ds16),len(ds17),len(ds18),len(ds19))"
   ]
  },
  {
   "cell_type": "code",
   "execution_count": null,
   "id": "d75dbd5a",
   "metadata": {},
   "outputs": [],
   "source": [
    "# count for each sex type and age group\n",
    "df10 = df1[(df1['Dx Principal_v0']=='E11.2')&(df1['Sexe']=='F')&(df1['Age  Du Pt\\n(au séjour)_v0']<=50)]\n",
    "len(df10)"
   ]
  },
  {
   "cell_type": "code",
   "execution_count": null,
   "id": "e7825dbf",
   "metadata": {},
   "outputs": [],
   "source": []
  }
 ],
 "metadata": {
  "kernelspec": {
   "display_name": "Python 3 (ipykernel)",
   "language": "python",
   "name": "python3"
  },
  "language_info": {
   "codemirror_mode": {
    "name": "ipython",
    "version": 3
   },
   "file_extension": ".py",
   "mimetype": "text/x-python",
   "name": "python",
   "nbconvert_exporter": "python",
   "pygments_lexer": "ipython3",
   "version": "3.10.9"
  }
 },
 "nbformat": 4,
 "nbformat_minor": 5
}
